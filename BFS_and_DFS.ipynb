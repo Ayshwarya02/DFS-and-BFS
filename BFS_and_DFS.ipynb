{
  "nbformat": 4,
  "nbformat_minor": 0,
  "metadata": {
    "colab": {
      "name": "BFS and DFS.ipynb",
      "provenance": []
    },
    "kernelspec": {
      "name": "python3",
      "display_name": "Python 3"
    },
    "language_info": {
      "name": "python"
    }
  },
  "cells": [
    {
      "cell_type": "markdown",
      "source": [
        "## **DFS**"
      ],
      "metadata": {
        "id": "7asOX1esaB9j"
      }
    },
    {
      "cell_type": "code",
      "execution_count": null,
      "metadata": {
        "colab": {
          "base_uri": "https://localhost:8080/"
        },
        "id": "j2IZkn1tMlU2",
        "outputId": "fdb129f6-736e-437a-d61c-021547f88ab7"
      },
      "outputs": [
        {
          "output_type": "stream",
          "name": "stdout",
          "text": [
            "Following is DFS \n",
            "2 1 0 "
          ]
        }
      ],
      "source": [
        "from collections import defaultdict\n",
        "class Graph:\n",
        "\tdef __init__(self):\n",
        "\t\tself.graph = defaultdict(list)\n",
        "\tdef addEdge(self, u, v):\n",
        "\t\tself.graph[u].append(v)\n",
        "\tdef DFSUtil(self, v, visited):\n",
        "\t\tvisited.add(v)\n",
        "\t\tprint(v, end=' ')\n",
        "\t\tfor neighbour in self.graph[v]:\n",
        "\t\t\tif neighbour not in visited:\n",
        "\t\t\t\tself.DFSUtil(neighbour, visited)\n",
        "\tdef DFS(self, v):\n",
        "\t\tvisited = set()\n",
        "\t\tself.DFSUtil(v, visited)\n",
        "g = Graph()\n",
        "g.addEdge(0, 1)\n",
        "g.addEdge(0, 2)\n",
        "g.addEdge(2, 1)\n",
        "g.addEdge(1, 2)\n",
        "g.addEdge(2, 0)\n",
        "g.addEdge(3, 2)\n",
        "print(\"Following is DFS \")\n",
        "g.DFS(2)\n"
      ]
    },
    {
      "cell_type": "markdown",
      "source": [
        "## **BFS**\n",
        "\n",
        "---\n",
        "\n"
      ],
      "metadata": {
        "id": "3F-rKGs9aPa3"
      }
    },
    {
      "cell_type": "code",
      "source": [
        "from collections import defaultdict\n",
        "class Graph:\n",
        "\tdef __init__(self):\n",
        "\t\tself.graph = defaultdict(list)\n",
        "\tdef addEdge(self,u,v):\n",
        "\t\tself.graph[u].append(v)\n",
        "\tdef BFS(self, s):\n",
        "\t\tvisited = [False] * (max(self.graph) + 1)\n",
        "\t\tqueue = []\n",
        "\t\tqueue.append(s)\n",
        "\t\tvisited[s] = True\n",
        "\t\twhile queue:\n",
        "\t\t\ts = queue.pop(0)\n",
        "\t\t\tprint (s, end = \" \")\n",
        "\n",
        "\t\t\tfor i in self.graph[s]:\n",
        "\t\t\t\tif visited[i] == False:\n",
        "\t\t\t\t\tqueue.append(i)\n",
        "\t\t\t\t\tvisited[i] = True\n",
        "g = Graph()\n",
        "g.addEdge(0, 1)\n",
        "g.addEdge(0, 2)\n",
        "g.addEdge(1, 2)\n",
        "g.addEdge(2, 0)\n",
        "g.addEdge(2, 3)\n",
        "g.addEdge(3, 3)\n",
        "print (\"Following is BFS\")\n",
        "g.BFS(2)\n"
      ],
      "metadata": {
        "colab": {
          "base_uri": "https://localhost:8080/"
        },
        "id": "CmmC6e1eMm_L",
        "outputId": "d69181b5-ad47-4983-dd24-df2057ea57bc"
      },
      "execution_count": null,
      "outputs": [
        {
          "output_type": "stream",
          "name": "stdout",
          "text": [
            "Following is BFS\n",
            "2 0 3 1 "
          ]
        }
      ]
    }
  ]
}